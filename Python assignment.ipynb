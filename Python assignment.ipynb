{
 "cells": [
  {
   "cell_type": "code",
   "execution_count": 2,
   "id": "8a39e34d-7816-4bf9-b1ae-ea3abc60881c",
   "metadata": {},
   "outputs": [],
   "source": [
    "def registeration():\n",
    "    name=input('enter the name: ')\n",
    "    enroll=input('enter the roll no.: ')\n",
    "    id=int(input('enter the id : '))\n",
    "    pwd=input('Enter the password: ')\n",
    "def login():\n",
    "    ida=int(input('enter the id : '))\n",
    "    pwda=input('Enter the password: ')\n",
    "    if (ida==id and pwda==pwd):\n",
    "        return You are successfuly registered \n",
    "    else :\n",
    "        return login()\n",
    "def attemptquiz():\n",
    "    enterid=int(input('enter the id : '))\n",
    "    if enterid==id:\n",
    "        return 'you are elligible to attempt the quiz'\n",
    "        print('Choose the subject you want to attempt the quiz')\n",
    "        print('option 1 for dbms ')\n",
    "        print('option 2 for DSA')\n",
    "        print('option 3 for python')\n",
    "        option=int(input('Enter any 1 option: '))\n",
    "        if (option==1):\n",
    "            print('You have choosen dbms test')\n",
    "        elif(option==2):\n",
    "            print('You have choosen DSA test')\n",
    "        elif(option==3):\n",
    "            print('You have choosen python quiz')\n",
    "        else:\n",
    "            print('Choose the correct option')\n",
    "    else:\n",
    "        return enterid\n",
    "\n",
    "def exitquiz():\n",
    "    print('want to quit the quiz: ')\n",
    "    fe=input('enter yes or no: ')\n",
    "    if fe==yes:\n",
    "        print('your quiz has ended ')\n",
    "    elif fe==no:\n",
    "        return "
   ]
  }
 ],
 "metadata": {
  "kernelspec": {
   "display_name": "Python 3 (ipykernel)",
   "language": "python",
   "name": "python3"
  },
  "language_info": {
   "codemirror_mode": {
    "name": "ipython",
    "version": 3
   },
   "file_extension": ".py",
   "mimetype": "text/x-python",
   "name": "python",
   "nbconvert_exporter": "python",
   "pygments_lexer": "ipython3",
   "version": "3.11.7"
  }
 },
 "nbformat": 4,
 "nbformat_minor": 5
}
